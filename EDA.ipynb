{
 "cells": [
  {
   "cell_type": "code",
   "execution_count": 1,
   "metadata": {},
   "outputs": [],
   "source": [
    "import pandas as pd\n",
    "import json "
   ]
  },
  {
   "cell_type": "code",
   "execution_count": 2,
   "metadata": {},
   "outputs": [],
   "source": [
    "neurips_data = json.load(open(\"/home/Ravikumar/Developer/similar-research-papers-predictor/dataset/neurips2022.json\",\"r\"))"
   ]
  },
  {
   "cell_type": "code",
   "execution_count": 9,
   "metadata": {},
   "outputs": [],
   "source": [
    "scraped_data = pd.DataFrame.from_dict(neurips_data.values())"
   ]
  },
  {
   "cell_type": "code",
   "execution_count": 10,
   "metadata": {},
   "outputs": [
    {
     "data": {
      "text/html": [
       "<div>\n",
       "<style scoped>\n",
       "    .dataframe tbody tr th:only-of-type {\n",
       "        vertical-align: middle;\n",
       "    }\n",
       "\n",
       "    .dataframe tbody tr th {\n",
       "        vertical-align: top;\n",
       "    }\n",
       "\n",
       "    .dataframe thead th {\n",
       "        text-align: right;\n",
       "    }\n",
       "</style>\n",
       "<table border=\"1\" class=\"dataframe\">\n",
       "  <thead>\n",
       "    <tr style=\"text-align: right;\">\n",
       "      <th></th>\n",
       "      <th>event_id</th>\n",
       "      <th>title</th>\n",
       "      <th>abstract</th>\n",
       "      <th>url</th>\n",
       "    </tr>\n",
       "  </thead>\n",
       "  <tbody>\n",
       "    <tr>\n",
       "      <th>0</th>\n",
       "      <td>53600</td>\n",
       "      <td>Infinite Recommendation Networks: A Data-Centr...</td>\n",
       "      <td>We leverage the Neural Tangent Kernel and its ...</td>\n",
       "      <td>https://nips.cc/Conferences/2022/Schedule?show...</td>\n",
       "    </tr>\n",
       "    <tr>\n",
       "      <th>1</th>\n",
       "      <td>55724</td>\n",
       "      <td>GLOBEM Dataset: Multi-Year Datasets for Longit...</td>\n",
       "      <td>Recent research has demonstrated the capabilit...</td>\n",
       "      <td>https://nips.cc/Conferences/2022/Schedule?show...</td>\n",
       "    </tr>\n",
       "    <tr>\n",
       "      <th>2</th>\n",
       "      <td>53451</td>\n",
       "      <td>Dynamics of SGD with Stochastic Polyak Stepsiz...</td>\n",
       "      <td>Recently Loizou et al. (2021), proposed and an...</td>\n",
       "      <td>https://nips.cc/Conferences/2022/Schedule?show...</td>\n",
       "    </tr>\n",
       "    <tr>\n",
       "      <th>3</th>\n",
       "      <td>53636</td>\n",
       "      <td>Non-Stationary Bandits under Recharging Payoff...</td>\n",
       "      <td>The stochastic multi-armed bandit setting has ...</td>\n",
       "      <td>https://nips.cc/Conferences/2022/Schedule?show...</td>\n",
       "    </tr>\n",
       "    <tr>\n",
       "      <th>4</th>\n",
       "      <td>53782</td>\n",
       "      <td>Preservation of the Global Knowledge by Not-Tr...</td>\n",
       "      <td>In federated learning, a strong global model i...</td>\n",
       "      <td>https://nips.cc/Conferences/2022/Schedule?show...</td>\n",
       "    </tr>\n",
       "  </tbody>\n",
       "</table>\n",
       "</div>"
      ],
      "text/plain": [
       "   event_id                                              title  \\\n",
       "0     53600  Infinite Recommendation Networks: A Data-Centr...   \n",
       "1     55724  GLOBEM Dataset: Multi-Year Datasets for Longit...   \n",
       "2     53451  Dynamics of SGD with Stochastic Polyak Stepsiz...   \n",
       "3     53636  Non-Stationary Bandits under Recharging Payoff...   \n",
       "4     53782  Preservation of the Global Knowledge by Not-Tr...   \n",
       "\n",
       "                                            abstract  \\\n",
       "0  We leverage the Neural Tangent Kernel and its ...   \n",
       "1  Recent research has demonstrated the capabilit...   \n",
       "2  Recently Loizou et al. (2021), proposed and an...   \n",
       "3  The stochastic multi-armed bandit setting has ...   \n",
       "4  In federated learning, a strong global model i...   \n",
       "\n",
       "                                                 url  \n",
       "0  https://nips.cc/Conferences/2022/Schedule?show...  \n",
       "1  https://nips.cc/Conferences/2022/Schedule?show...  \n",
       "2  https://nips.cc/Conferences/2022/Schedule?show...  \n",
       "3  https://nips.cc/Conferences/2022/Schedule?show...  \n",
       "4  https://nips.cc/Conferences/2022/Schedule?show...  "
      ]
     },
     "execution_count": 10,
     "metadata": {},
     "output_type": "execute_result"
    }
   ],
   "source": [
    "scraped_data.head()"
   ]
  },
  {
   "cell_type": "code",
   "execution_count": 2,
   "metadata": {},
   "outputs": [
    {
     "name": "stderr",
     "output_type": "stream",
     "text": [
      "/home/miniconda3/envs/pytorch_p39/lib/python3.9/site-packages/tqdm/auto.py:22: TqdmWarning: IProgress not found. Please update jupyter and ipywidgets. See https://ipywidgets.readthedocs.io/en/stable/user_install.html\n",
      "  from .autonotebook import tqdm as notebook_tqdm\n"
     ]
    },
    {
     "data": {
      "text/plain": [
       "True"
      ]
     },
     "execution_count": 2,
     "metadata": {},
     "output_type": "execute_result"
    }
   ],
   "source": [
    "import torch\n",
    "import config\n",
    "from annoy import AnnoyIndex\n",
    "from sentence_transformers import SentenceTransformer\n",
    "import plotly.express as px\n",
    "\n",
    "topk = 5\n",
    "embeddings_dict = torch.load(config.EMBEDDINGS_PATH)\n",
    "embed_size = embeddings_dict[\"embed_size\"]\n",
    "\n",
    "model = AnnoyIndex(embed_size, 'angular')\n",
    "model.load(config.ANN_PATH) # super fast, will just mmap the file"
   ]
  },
  {
   "cell_type": "code",
   "execution_count": 3,
   "metadata": {},
   "outputs": [],
   "source": [
    "query = \"cnn\"\n",
    "sbert_model = SentenceTransformer(config.MODEL_STR,device=\"cpu\")\n"
   ]
  },
  {
   "cell_type": "code",
   "execution_count": 5,
   "metadata": {},
   "outputs": [],
   "source": [
    "def load_data(data_path):\n",
    "    json_data = json.load(open(data_path,\"r\"))\n",
    "    paper_ids = []\n",
    "    paper_texts = []\n",
    "    for k,v in json_data.items():\n",
    "        paper_ids.append(k)\n",
    "        paper_texts.append( v[\"title\"].strip()+\". \"+v[\"abstract\"] )\n",
    "    return paper_ids,paper_texts"
   ]
  },
  {
   "cell_type": "code",
   "execution_count": 7,
   "metadata": {},
   "outputs": [],
   "source": [
    "_,paper_texts = load_data(config.DATA_PATH)"
   ]
  },
  {
   "cell_type": "code",
   "execution_count": 8,
   "metadata": {},
   "outputs": [
    {
     "name": "stderr",
     "output_type": "stream",
     "text": [
      "Batches: 100%|██████████| 26/26 [00:07<00:00,  3.34it/s]\n"
     ]
    }
   ],
   "source": [
    "sbert_embeds = sbert_model.encode(paper_texts,batch_size=64*2,\n",
    "                        show_progress_bar=True,\n",
    "                        device=\"cuda\" if torch.cuda.is_available() else \"cpu\"\n",
    "        )"
   ]
  },
  {
   "cell_type": "code",
   "execution_count": null,
   "metadata": {},
   "outputs": [],
   "source": [
    "out = model.get_nns_by_vector(sbert_embeds, topk, search_k=-1, include_distances=True)"
   ]
  },
  {
   "cell_type": "code",
   "execution_count": 13,
   "metadata": {},
   "outputs": [
    {
     "data": {
      "text/plain": [
       "([2464, 2477, 2361, 1339, 2276],\n",
       " [1.046443223953247,\n",
       "  1.0510444641113281,\n",
       "  1.0534943342208862,\n",
       "  1.0620694160461426,\n",
       "  1.0669279098510742])"
      ]
     },
     "execution_count": 13,
     "metadata": {},
     "output_type": "execute_result"
    }
   ],
   "source": [
    "out"
   ]
  }
 ],
 "metadata": {
  "kernelspec": {
   "display_name": "Python 3.9.15 ('pytorch_p39')",
   "language": "python",
   "name": "python3"
  },
  "language_info": {
   "codemirror_mode": {
    "name": "ipython",
    "version": 3
   },
   "file_extension": ".py",
   "mimetype": "text/x-python",
   "name": "python",
   "nbconvert_exporter": "python",
   "pygments_lexer": "ipython3",
   "version": "3.9.15 (main, Nov  4 2022, 16:13:54) \n[GCC 11.2.0]"
  },
  "orig_nbformat": 4,
  "vscode": {
   "interpreter": {
    "hash": "95aac795b256ca81790b03f5327d66a3955fee3b81dfc95d5d267fe1f88b1813"
   }
  }
 },
 "nbformat": 4,
 "nbformat_minor": 2
}
